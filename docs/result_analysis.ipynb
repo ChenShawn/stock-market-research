{
 "cells": [
  {
   "cell_type": "code",
   "execution_count": 1,
   "metadata": {
    "collapsed": true
   },
   "outputs": [
    {
     "name": "stderr",
     "output_type": "stream",
     "text": [
      "/home/yuki/anaconda3/lib/python3.6/site-packages/tensorflow/python/framework/dtypes.py:516: FutureWarning: Passing (type, 1) or '1type' as a synonym of type is deprecated; in a future version of numpy, it will be understood as (type, (1,)) / '(1,)type'.\n",
      "  _np_qint8 = np.dtype([(\"qint8\", np.int8, 1)])\n",
      "/home/yuki/anaconda3/lib/python3.6/site-packages/tensorflow/python/framework/dtypes.py:517: FutureWarning: Passing (type, 1) or '1type' as a synonym of type is deprecated; in a future version of numpy, it will be understood as (type, (1,)) / '(1,)type'.\n",
      "  _np_quint8 = np.dtype([(\"quint8\", np.uint8, 1)])\n",
      "/home/yuki/anaconda3/lib/python3.6/site-packages/tensorflow/python/framework/dtypes.py:518: FutureWarning: Passing (type, 1) or '1type' as a synonym of type is deprecated; in a future version of numpy, it will be understood as (type, (1,)) / '(1,)type'.\n",
      "  _np_qint16 = np.dtype([(\"qint16\", np.int16, 1)])\n",
      "/home/yuki/anaconda3/lib/python3.6/site-packages/tensorflow/python/framework/dtypes.py:519: FutureWarning: Passing (type, 1) or '1type' as a synonym of type is deprecated; in a future version of numpy, it will be understood as (type, (1,)) / '(1,)type'.\n",
      "  _np_quint16 = np.dtype([(\"quint16\", np.uint16, 1)])\n",
      "/home/yuki/anaconda3/lib/python3.6/site-packages/tensorflow/python/framework/dtypes.py:520: FutureWarning: Passing (type, 1) or '1type' as a synonym of type is deprecated; in a future version of numpy, it will be understood as (type, (1,)) / '(1,)type'.\n",
      "  _np_qint32 = np.dtype([(\"qint32\", np.int32, 1)])\n",
      "/home/yuki/anaconda3/lib/python3.6/site-packages/tensorflow/python/framework/dtypes.py:525: FutureWarning: Passing (type, 1) or '1type' as a synonym of type is deprecated; in a future version of numpy, it will be understood as (type, (1,)) / '(1,)type'.\n",
      "  np_resource = np.dtype([(\"resource\", np.ubyte, 1)])\n",
      "/home/yuki/anaconda3/lib/python3.6/site-packages/tensorboard/compat/tensorflow_stub/dtypes.py:541: FutureWarning: Passing (type, 1) or '1type' as a synonym of type is deprecated; in a future version of numpy, it will be understood as (type, (1,)) / '(1,)type'.\n",
      "  _np_qint8 = np.dtype([(\"qint8\", np.int8, 1)])\n",
      "/home/yuki/anaconda3/lib/python3.6/site-packages/tensorboard/compat/tensorflow_stub/dtypes.py:542: FutureWarning: Passing (type, 1) or '1type' as a synonym of type is deprecated; in a future version of numpy, it will be understood as (type, (1,)) / '(1,)type'.\n",
      "  _np_quint8 = np.dtype([(\"quint8\", np.uint8, 1)])\n",
      "/home/yuki/anaconda3/lib/python3.6/site-packages/tensorboard/compat/tensorflow_stub/dtypes.py:543: FutureWarning: Passing (type, 1) or '1type' as a synonym of type is deprecated; in a future version of numpy, it will be understood as (type, (1,)) / '(1,)type'.\n",
      "  _np_qint16 = np.dtype([(\"qint16\", np.int16, 1)])\n",
      "/home/yuki/anaconda3/lib/python3.6/site-packages/tensorboard/compat/tensorflow_stub/dtypes.py:544: FutureWarning: Passing (type, 1) or '1type' as a synonym of type is deprecated; in a future version of numpy, it will be understood as (type, (1,)) / '(1,)type'.\n",
      "  _np_quint16 = np.dtype([(\"quint16\", np.uint16, 1)])\n",
      "/home/yuki/anaconda3/lib/python3.6/site-packages/tensorboard/compat/tensorflow_stub/dtypes.py:545: FutureWarning: Passing (type, 1) or '1type' as a synonym of type is deprecated; in a future version of numpy, it will be understood as (type, (1,)) / '(1,)type'.\n",
      "  _np_qint32 = np.dtype([(\"qint32\", np.int32, 1)])\n",
      "/home/yuki/anaconda3/lib/python3.6/site-packages/tensorboard/compat/tensorflow_stub/dtypes.py:550: FutureWarning: Passing (type, 1) or '1type' as a synonym of type is deprecated; in a future version of numpy, it will be understood as (type, (1,)) / '(1,)type'.\n",
      "  np_resource = np.dtype([(\"resource\", np.ubyte, 1)])\n"
     ]
    }
   ],
   "source": [
    "import tensorflow as tf\n",
    "import numpy as np\n",
    "import pandas as pd\n",
    "import os, sys\n",
    "import functools\n",
    "\n",
    "os.chdir('..')\n",
    "sys.path.append('..')\n",
    "from data import dataset\n",
    "from models import burn_in_lstm"
   ]
  },
  {
   "cell_type": "code",
   "execution_count": 2,
   "metadata": {},
   "outputs": [
    {
     "name": "stdout",
     "output_type": "stream",
     "text": [
      " [*] Loaded pretrained model label.h5\n"
     ]
    }
   ],
   "source": [
    "def load_model():\n",
    "    model = burn_in_lstm.SimpleSequentialLSTM()\n",
    "    # model = burn_in_lstm.BurnInStateLSTM()\n",
    "    loss = tf.keras.losses.BinaryCrossentropy(from_logits=True)\n",
    "    adam = tf.keras.optimizers.Adam(lr=1e-3)\n",
    "    metrics = [\n",
    "        tf.keras.metrics.BinaryAccuracy(name='acc'),\n",
    "        tf.keras.metrics.Precision(name='precision'),\n",
    "        tf.keras.metrics.Recall(name='recall')\n",
    "    ]\n",
    "    model.compile(loss=loss, optimizer=adam, metrics=metrics)\n",
    "    model.build(input_shape=[(None, 14, 20), (None, 19), (None, 3)])\n",
    "\n",
    "    model_basedir = '/home/yuki/Documents/ymx/stock_research/train'\n",
    "    if 'label.h5' in os.listdir(model_basedir):\n",
    "        model.load_weights(os.path.join(model_basedir, 'label.h5'))\n",
    "        print(' [*] Loaded pretrained model label.h5')\n",
    "    return model\n",
    "\n",
    "model = load_model()"
   ]
  },
  {
   "cell_type": "code",
   "execution_count": 9,
   "metadata": {},
   "outputs": [
    {
     "name": "stdout",
     "output_type": "stream",
     "text": [
      "OK\n"
     ]
    }
   ],
   "source": [
    "import pprint\n",
    "\n",
    "stock_basics = pd.read_csv('./data/stock_basics.csv')\n",
    "\n",
    "def get_codenum_representation():\n",
    "    value_set = list(set(stock_basics['codenum'].values.tolist()))\n",
    "    value_set = list(map(lambda x: str(x).zfill(6), value_set))\n",
    "    value_hash = dict(zip(value_set, list(range(len(value_set)))))\n",
    "    return value_hash\n",
    "\n",
    "stock_code_hash = get_codenum_representation()\n",
    "stock_code_hash_reversed = dict(zip(stock_code_hash.values(), stock_code_hash.keys()))\n",
    "# pprint.pprint(stock_code_hash)\n",
    "print('OK')"
   ]
  },
  {
   "cell_type": "code",
   "execution_count": 17,
   "metadata": {},
   "outputs": [
    {
     "name": "stdout",
     "output_type": "stream",
     "text": [
      " >>>>>>>>>> iter=3801\n",
      "['国海证券', '东北证券', '永太科技', '国光电器', '吉药控股', '安阳钢铁', '鹏欣资源']\n"
     ]
    }
   ],
   "source": [
    "import heapq\n",
    "\n",
    "def from_code_to_name(codestr):\n",
    "    codenum = stock_code_hash_reversed[int(codestr)]\n",
    "    dfline = stock_basics[stock_basics['codenum'] == int(codenum)]\n",
    "    assert len(dfline) == 1, f'codestr={codestr} len(dfline)={len(dfline)}'\n",
    "    return dfline['name'].values[0]\n",
    "\n",
    "def get_knn_mapping(k=7):\n",
    "    heapdict = {key: [] for key in stock_code_hash.keys()}\n",
    "    niter = 0\n",
    "    for x, xcode in stock_code_hash.items():\n",
    "        ycodes = list(stock_code_hash.values()).copy()\n",
    "        ycodes.remove(stock_code_hash[x])\n",
    "        xcodes_arr = np.array([xcode] * len(ycodes), dtype=np.int32)\n",
    "        ycodes_arr = np.array(ycodes, dtype=np.int32)\n",
    "        simarray = model.stock_cosine_similarity(xcodes_arr, ycodes_arr)\n",
    "        topk = tf.argsort(simarray, direction='DESCENDING')[: k]\n",
    "        topk = topk.numpy().tolist()\n",
    "        for elem in topk:\n",
    "            heapdict[x].append(from_code_to_name(ycodes[elem]))\n",
    "        if niter % 100 == 1:\n",
    "            print('\\r', f'>>>>>>>>>> iter={niter}', end='')\n",
    "        niter += 1\n",
    "    print('')\n",
    "    return heapdict\n",
    "\n",
    "\n",
    "stock_knn_mapping = get_knn_mapping()\n",
    "print(stock_knn_mapping['600000'])"
   ]
  },
  {
   "cell_type": "code",
   "execution_count": 24,
   "metadata": {},
   "outputs": [
    {
     "name": "stdout",
     "output_type": "stream",
     "text": [
      "['芯源微', '天宇股份', '先达股份', '快意电梯', '新华保险', '豫园股份', '民和股份']\n"
     ]
    }
   ],
   "source": [
    "print(stock_knn_mapping['601021'])"
   ]
  },
  {
   "cell_type": "code",
   "execution_count": null,
   "metadata": {},
   "outputs": [],
   "source": []
  }
 ],
 "metadata": {
  "kernelspec": {
   "display_name": "Python 3",
   "language": "python",
   "name": "python3"
  },
  "language_info": {
   "codemirror_mode": {
    "name": "ipython",
    "version": 3
   },
   "file_extension": ".py",
   "mimetype": "text/x-python",
   "name": "python",
   "nbconvert_exporter": "python",
   "pygments_lexer": "ipython3",
   "version": "3.6.4"
  }
 },
 "nbformat": 4,
 "nbformat_minor": 2
}
